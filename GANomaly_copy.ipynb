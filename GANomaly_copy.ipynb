{
  "cells": [
    {
      "cell_type": "code",
      "execution_count": null,
      "metadata": {
        "colab": {
          "base_uri": "https://localhost:8080/"
        },
        "id": "5ZpXAL1M4EnS",
        "outputId": "71546ddf-46f9-4256-98d1-2d58cf7090d1"
      },
      "outputs": [
        {
          "output_type": "stream",
          "name": "stdout",
          "text": [
            "Mounted at /content/gdrive\n"
          ]
        }
      ],
      "source": [
        "#load google drive\n",
        "from google.colab import drive\n",
        "drive.mount('/content/gdrive')"
      ]
    },
    {
      "cell_type": "code",
      "execution_count": null,
      "metadata": {
        "id": "qKyZKWbf0qwA"
      },
      "outputs": [],
      "source": [
        "#import package\n",
        "import tensorflow as tf\n",
        "from sklearn.metrics import confusion_matrix\n",
        "import time\n",
        "from sklearn.utils import shuffle\n",
        "import tensorflow.keras as keras\n",
        "from tensorflow.keras import layers\n",
        "import tensorflow.keras.backend as K\n",
        "import matplotlib.pyplot as plt\n",
        "import random\n",
        "import cv2\n",
        "import os\n",
        "import glob\n",
        "import numpy as np\n",
        "from google.colab.patches import cv2_imshow"
      ]
    },
    {
      "cell_type": "code",
      "execution_count": null,
      "metadata": {
        "id": "fLllz5Ks4aHY"
      },
      "outputs": [],
      "source": [
        "#Data path\n",
        "data_path = \"/content/gdrive/MyDrive/MVTEC/File/pill/\""
      ]
    },
    {
      "cell_type": "code",
      "execution_count": null,
      "metadata": {
        "id": "TCmWyNuy4zrS"
      },
      "outputs": [],
      "source": [
        "#Inital parameters\n",
        "RGB = True\n",
        "channels = 3\n",
        "Image_shape = (256,256)\n",
        "\n",
        "flip_add = True\n",
        "\n",
        "niter = 250\n",
        "batch_size = 32\n",
        "\n",
        "Threshold = 0.05\n"
      ]
    },
    {
      "cell_type": "markdown",
      "metadata": {
        "id": "Zk2VDU5UKP7f"
      },
      "source": [
        "#Generator\n"
      ]
    },
    {
      "cell_type": "markdown",
      "metadata": {
        "id": "jiMfQRL-KbSY"
      },
      "source": [
        "generators Encoder"
      ]
    },
    {
      "cell_type": "code",
      "source": [
        "def g_e_fu():\n",
        "  input_layer = layers.Input(name='input', shape=(Image_shape[0], Image_shape[1], channels))\n",
        "\n",
        "  # Encoder\n",
        "  x = layers.Conv2D(32, (5,5), strides=(1,1), padding='same', name='conv_1', kernel_regularizer = 'l2')(input_layer)\n",
        "  x = layers.LeakyReLU(name='leaky_1')(x)\n",
        "\n",
        "  x = layers.Conv2D(64, (3,3), strides=(2,2), padding='same', name='conv_2', kernel_regularizer = 'l2')(x)\n",
        "  x = layers.BatchNormalization(name='norm_1')(x)\n",
        "  x = layers.LeakyReLU(name='leaky_2')(x)\n",
        "\n",
        "\n",
        "  x = layers.Conv2D(128, (3,3), strides=(2,2), padding='same', name='conv_3', kernel_regularizer = 'l2')(x)\n",
        "  x = layers.BatchNormalization(name='norm_2')(x)\n",
        "  x = layers.LeakyReLU(name='leaky_3')(x)\n",
        "\n",
        "\n",
        "  x = layers.Conv2D(128, (3,3), strides=(2,2), padding='same', name='conv_4', kernel_regularizer = 'l2')(x)\n",
        "  x = layers.BatchNormalization(name='norm_3')(x)\n",
        "  x = layers.LeakyReLU(name='leaky_4')(x)\n",
        "\n",
        "  x = layers.GlobalAveragePooling2D(name='g_encoder_output')(x)\n",
        "\n",
        "  g_e = keras.models.Model(inputs=input_layer, outputs=x)\n",
        "\n",
        "  #g_e.summary()\n",
        "  return g_e"
      ],
      "metadata": {
        "id": "3jOPpb8IodqE"
      },
      "execution_count": null,
      "outputs": []
    },
    {
      "cell_type": "code",
      "execution_count": null,
      "metadata": {
        "colab": {
          "base_uri": "https://localhost:8080/"
        },
        "id": "eWzAv0Oe_GCd",
        "outputId": "ef1b7175-2e77-4ce7-b547-b485cd12ad5e"
      },
      "outputs": [
        {
          "output_type": "stream",
          "name": "stdout",
          "text": [
            "Model: \"model\"\n",
            "_________________________________________________________________\n",
            " Layer (type)                Output Shape              Param #   \n",
            "=================================================================\n",
            " input (InputLayer)          [(None, 256, 256, 3)]     0         \n",
            "                                                                 \n",
            " conv_1 (Conv2D)             (None, 256, 256, 32)      2432      \n",
            "                                                                 \n",
            " leaky_1 (LeakyReLU)         (None, 256, 256, 32)      0         \n",
            "                                                                 \n",
            " conv_2 (Conv2D)             (None, 128, 128, 64)      18496     \n",
            "                                                                 \n",
            " norm_1 (BatchNormalization)  (None, 128, 128, 64)     256       \n",
            "                                                                 \n",
            " leaky_2 (LeakyReLU)         (None, 128, 128, 64)      0         \n",
            "                                                                 \n",
            " conv_3 (Conv2D)             (None, 64, 64, 128)       73856     \n",
            "                                                                 \n",
            " norm_2 (BatchNormalization)  (None, 64, 64, 128)      512       \n",
            "                                                                 \n",
            " leaky_3 (LeakyReLU)         (None, 64, 64, 128)       0         \n",
            "                                                                 \n",
            " conv_4 (Conv2D)             (None, 32, 32, 128)       147584    \n",
            "                                                                 \n",
            " norm_3 (BatchNormalization)  (None, 32, 32, 128)      512       \n",
            "                                                                 \n",
            " leaky_4 (LeakyReLU)         (None, 32, 32, 128)       0         \n",
            "                                                                 \n",
            " g_encoder_output (GlobalAve  (None, 128)              0         \n",
            " ragePooling2D)                                                  \n",
            "                                                                 \n",
            "=================================================================\n",
            "Total params: 243,648\n",
            "Trainable params: 243,008\n",
            "Non-trainable params: 640\n",
            "_________________________________________________________________\n"
          ]
        }
      ],
      "source": [
        "input_layer = layers.Input(name='input', shape=(Image_shape[0], Image_shape[1], channels))\n",
        "\n",
        "# Encoder\n",
        "x = layers.Conv2D(32, (5,5), strides=(1,1), padding='same', name='conv_1', kernel_regularizer = 'l2')(input_layer)\n",
        "x = layers.LeakyReLU(name='leaky_1')(x)\n",
        "\n",
        "x = layers.Conv2D(64, (3,3), strides=(2,2), padding='same', name='conv_2', kernel_regularizer = 'l2')(x)\n",
        "x = layers.BatchNormalization(name='norm_1')(x)\n",
        "x = layers.LeakyReLU(name='leaky_2')(x)\n",
        "\n",
        "\n",
        "x = layers.Conv2D(128, (3,3), strides=(2,2), padding='same', name='conv_3', kernel_regularizer = 'l2')(x)\n",
        "x = layers.BatchNormalization(name='norm_2')(x)\n",
        "x = layers.LeakyReLU(name='leaky_3')(x)\n",
        "\n",
        "\n",
        "x = layers.Conv2D(128, (3,3), strides=(2,2), padding='same', name='conv_4', kernel_regularizer = 'l2')(x)\n",
        "x = layers.BatchNormalization(name='norm_3')(x)\n",
        "x = layers.LeakyReLU(name='leaky_4')(x)\n",
        "\n",
        "x = layers.GlobalAveragePooling2D(name='g_encoder_output')(x)\n",
        "\n",
        "g_e = keras.models.Model(inputs=input_layer, outputs=x)\n",
        "\n",
        "g_e.summary()"
      ]
    },
    {
      "cell_type": "markdown",
      "metadata": {
        "id": "V8VxP6LvKdUC"
      },
      "source": [
        "generator"
      ]
    },
    {
      "cell_type": "code",
      "source": [
        "def g_fu():\n",
        "  input_layer = layers.Input(name='input', shape=(Image_shape[0], Image_shape[1], channels))\n",
        "\n",
        "  x = g_e(input_layer)\n",
        "\n",
        "  y = layers.Dense(Image_shape[0] * Image_shape[0] * 2, name='dense')(x) # 2 = 128 / 8 / 8\n",
        "  y = layers.Reshape((Image_shape[0]//8, Image_shape[0]//8, 128), name='de_reshape')(y)\n",
        "\n",
        "  y = layers.Conv2DTranspose(128, (3,3), strides=(2,2), padding='same', name='deconv_1', kernel_regularizer = 'l2')(y)\n",
        "  y = layers.LeakyReLU(name='de_leaky_1')(y)\n",
        "\n",
        "  y = layers.Conv2DTranspose(64, (3,3), strides=(2,2), padding='same', name='deconv_2', kernel_regularizer = 'l2')(y)\n",
        "  y = layers.LeakyReLU(name='de_leaky_2')(y)\n",
        "\n",
        "  y = layers.Conv2DTranspose(32, (3,3), strides=(2,2), padding='same', name='deconv_3', kernel_regularizer = 'l2')(y)\n",
        "  y = layers.LeakyReLU(name='de_leaky_3')(y)\n",
        "\n",
        "  y = layers.Conv2DTranspose(channels, (1, 1), strides=(1,1), padding='same', name='decoder_deconv_output', kernel_regularizer = 'l2', activation='tanh')(y)\n",
        "\n",
        "  g = keras.models.Model(inputs=input_layer, outputs=y)\n",
        "\n",
        "  #g.summary()\n",
        "  return g"
      ],
      "metadata": {
        "id": "b_FheH1bopjq"
      },
      "execution_count": null,
      "outputs": []
    },
    {
      "cell_type": "code",
      "execution_count": null,
      "metadata": {
        "colab": {
          "base_uri": "https://localhost:8080/"
        },
        "id": "9uU_r0bJCBtj",
        "outputId": "2a4a34bf-91cc-46d0-f30d-de1ff91f2a6b"
      },
      "outputs": [
        {
          "output_type": "stream",
          "name": "stdout",
          "text": [
            "Model: \"model_1\"\n",
            "_________________________________________________________________\n",
            " Layer (type)                Output Shape              Param #   \n",
            "=================================================================\n",
            " input (InputLayer)          [(None, 256, 256, 3)]     0         \n",
            "                                                                 \n",
            " model (Functional)          (None, 128)               243648    \n",
            "                                                                 \n",
            " dense (Dense)               (None, 131072)            16908288  \n",
            "                                                                 \n",
            " de_reshape (Reshape)        (None, 32, 32, 128)       0         \n",
            "                                                                 \n",
            " deconv_1 (Conv2DTranspose)  (None, 64, 64, 128)       147584    \n",
            "                                                                 \n",
            " de_leaky_1 (LeakyReLU)      (None, 64, 64, 128)       0         \n",
            "                                                                 \n",
            " deconv_2 (Conv2DTranspose)  (None, 128, 128, 64)      73792     \n",
            "                                                                 \n",
            " de_leaky_2 (LeakyReLU)      (None, 128, 128, 64)      0         \n",
            "                                                                 \n",
            " deconv_3 (Conv2DTranspose)  (None, 256, 256, 32)      18464     \n",
            "                                                                 \n",
            " de_leaky_3 (LeakyReLU)      (None, 256, 256, 32)      0         \n",
            "                                                                 \n",
            " decoder_deconv_output (Conv  (None, 256, 256, 3)      99        \n",
            " 2DTranspose)                                                    \n",
            "                                                                 \n",
            "=================================================================\n",
            "Total params: 17,391,875\n",
            "Trainable params: 17,391,235\n",
            "Non-trainable params: 640\n",
            "_________________________________________________________________\n"
          ]
        }
      ],
      "source": [
        "input_layer = layers.Input(name='input', shape=(Image_shape[0], Image_shape[1], channels))\n",
        "\n",
        "x = g_e(input_layer)\n",
        "\n",
        "y = layers.Dense(Image_shape[0] * Image_shape[0] * 2, name='dense')(x) # 2 = 128 / 8 / 8\n",
        "y = layers.Reshape((Image_shape[0]//8, Image_shape[0]//8, 128), name='de_reshape')(y)\n",
        "\n",
        "y = layers.Conv2DTranspose(128, (3,3), strides=(2,2), padding='same', name='deconv_1', kernel_regularizer = 'l2')(y)\n",
        "y = layers.LeakyReLU(name='de_leaky_1')(y)\n",
        "\n",
        "y = layers.Conv2DTranspose(64, (3,3), strides=(2,2), padding='same', name='deconv_2', kernel_regularizer = 'l2')(y)\n",
        "y = layers.LeakyReLU(name='de_leaky_2')(y)\n",
        "\n",
        "y = layers.Conv2DTranspose(32, (3,3), strides=(2,2), padding='same', name='deconv_3', kernel_regularizer = 'l2')(y)\n",
        "y = layers.LeakyReLU(name='de_leaky_3')(y)\n",
        "\n",
        "y = layers.Conv2DTranspose(channels, (1, 1), strides=(1,1), padding='same', name='decoder_deconv_output', kernel_regularizer = 'l2', activation='tanh')(y)\n",
        "\n",
        "g = keras.models.Model(inputs=input_layer, outputs=y)\n",
        "\n",
        "g.summary()"
      ]
    },
    {
      "cell_type": "markdown",
      "metadata": {
        "id": "sS8OTAksKhr_"
      },
      "source": [
        "#Encoder After Generator"
      ]
    },
    {
      "cell_type": "code",
      "execution_count": null,
      "metadata": {
        "colab": {
          "base_uri": "https://localhost:8080/"
        },
        "id": "E0vDieRNCV8M",
        "outputId": "15822f6d-c3ff-4954-ae6f-68c534d9143e"
      },
      "outputs": [
        {
          "output_type": "stream",
          "name": "stdout",
          "text": [
            "Model: \"model_2\"\n",
            "_________________________________________________________________\n",
            " Layer (type)                Output Shape              Param #   \n",
            "=================================================================\n",
            " input (InputLayer)          [(None, 256, 256, 3)]     0         \n",
            "                                                                 \n",
            " encoder_conv_1 (Conv2D)     (None, 256, 256, 32)      2432      \n",
            "                                                                 \n",
            " leaky_re_lu (LeakyReLU)     (None, 256, 256, 32)      0         \n",
            "                                                                 \n",
            " encoder_conv_2 (Conv2D)     (None, 128, 128, 64)      18496     \n",
            "                                                                 \n",
            " encoder_norm_1 (BatchNormal  (None, 128, 128, 64)     256       \n",
            " ization)                                                        \n",
            "                                                                 \n",
            " leaky_re_lu_1 (LeakyReLU)   (None, 128, 128, 64)      0         \n",
            "                                                                 \n",
            " encoder_conv_3 (Conv2D)     (None, 64, 64, 128)       73856     \n",
            "                                                                 \n",
            " encoder_norm_2 (BatchNormal  (None, 64, 64, 128)      512       \n",
            " ization)                                                        \n",
            "                                                                 \n",
            " leaky_re_lu_2 (LeakyReLU)   (None, 64, 64, 128)       0         \n",
            "                                                                 \n",
            " conv_41 (Conv2D)            (None, 32, 32, 128)       147584    \n",
            "                                                                 \n",
            " encoder_norm_3 (BatchNormal  (None, 32, 32, 128)      512       \n",
            " ization)                                                        \n",
            "                                                                 \n",
            " leaky_re_lu_3 (LeakyReLU)   (None, 32, 32, 128)       0         \n",
            "                                                                 \n",
            " encoder_output (GlobalAvera  (None, 128)              0         \n",
            " gePooling2D)                                                    \n",
            "                                                                 \n",
            "=================================================================\n",
            "Total params: 243,648\n",
            "Trainable params: 243,008\n",
            "Non-trainable params: 640\n",
            "_________________________________________________________________\n"
          ]
        }
      ],
      "source": [
        "input_layer = layers.Input(name='input', shape=(Image_shape[0],Image_shape[1], channels))\n",
        "\n",
        "z = layers.Conv2D(32, (5,5), strides=(1,1), padding='same', name='encoder_conv_1', kernel_regularizer = 'l2')(input_layer)\n",
        "z = layers.LeakyReLU()(z)\n",
        "\n",
        "z = layers.Conv2D(64, (3,3), strides=(2,2), padding='same', name='encoder_conv_2', kernel_regularizer = 'l2')(z)\n",
        "z = layers.BatchNormalization(name='encoder_norm_1')(z)\n",
        "z = layers.LeakyReLU()(z)\n",
        "\n",
        "\n",
        "z = layers.Conv2D(128, (3,3), strides=(2,2), padding='same', name='encoder_conv_3', kernel_regularizer = 'l2')(z)\n",
        "z = layers.BatchNormalization(name='encoder_norm_2')(z)\n",
        "z = layers.LeakyReLU()(z)\n",
        "\n",
        "z = layers.Conv2D(128, (3,3), strides=(2,2), padding='same', name='conv_41', kernel_regularizer = 'l2')(z)\n",
        "z = layers.BatchNormalization(name='encoder_norm_3')(z)\n",
        "z = layers.LeakyReLU()(z)\n",
        "\n",
        "z = layers.GlobalAveragePooling2D(name='encoder_output')(z)\n",
        "\n",
        "encoder = keras.models.Model(input_layer, z)\n",
        "encoder.summary()"
      ]
    },
    {
      "cell_type": "markdown",
      "metadata": {
        "id": "0Pi-HFQtLEbd"
      },
      "source": [
        "#Feature Extractor(for discriminator)"
      ]
    },
    {
      "cell_type": "code",
      "execution_count": null,
      "metadata": {
        "colab": {
          "base_uri": "https://localhost:8080/"
        },
        "id": "ov6H-proCevb",
        "outputId": "90f64409-9f70-438d-f948-ecff8c1f8123"
      },
      "outputs": [
        {
          "output_type": "stream",
          "name": "stdout",
          "text": [
            "Model: \"model_3\"\n",
            "_________________________________________________________________\n",
            " Layer (type)                Output Shape              Param #   \n",
            "=================================================================\n",
            " input (InputLayer)          [(None, 256, 256, 3)]     0         \n",
            "                                                                 \n",
            " f_conv_1 (Conv2D)           (None, 256, 256, 32)      2432      \n",
            "                                                                 \n",
            " f_leaky_1 (LeakyReLU)       (None, 256, 256, 32)      0         \n",
            "                                                                 \n",
            " f_conv_2 (Conv2D)           (None, 128, 128, 64)      18496     \n",
            "                                                                 \n",
            " f_norm_1 (BatchNormalizatio  (None, 128, 128, 64)     256       \n",
            " n)                                                              \n",
            "                                                                 \n",
            " f_leaky_2 (LeakyReLU)       (None, 128, 128, 64)      0         \n",
            "                                                                 \n",
            " f_conv_3 (Conv2D)           (None, 64, 64, 128)       73856     \n",
            "                                                                 \n",
            " f_norm_2 (BatchNormalizatio  (None, 64, 64, 128)      512       \n",
            " n)                                                              \n",
            "                                                                 \n",
            " f_leaky_3 (LeakyReLU)       (None, 64, 64, 128)       0         \n",
            "                                                                 \n",
            " f_conv_4 (Conv2D)           (None, 32, 32, 128)       147584    \n",
            "                                                                 \n",
            " f_norm_3 (BatchNormalizatio  (None, 32, 32, 128)      512       \n",
            " n)                                                              \n",
            "                                                                 \n",
            " feature_output (LeakyReLU)  (None, 32, 32, 128)       0         \n",
            "                                                                 \n",
            "=================================================================\n",
            "Total params: 243,648\n",
            "Trainable params: 243,008\n",
            "Non-trainable params: 640\n",
            "_________________________________________________________________\n"
          ]
        }
      ],
      "source": [
        "input_layer = layers.Input(name='input', shape=(Image_shape[0],Image_shape[1], channels))\n",
        "\n",
        "f = layers.Conv2D(32, (5,5), strides=(1,1), padding='same', name='f_conv_1', kernel_regularizer = 'l2')(input_layer)\n",
        "f = layers.LeakyReLU(name='f_leaky_1')(f)\n",
        "\n",
        "f = layers.Conv2D(64, (3,3), strides=(2,2), padding='same', name='f_conv_2', kernel_regularizer = 'l2')(f)\n",
        "f = layers.BatchNormalization(name='f_norm_1')(f)\n",
        "f = layers.LeakyReLU(name='f_leaky_2')(f)\n",
        "\n",
        "\n",
        "f = layers.Conv2D(128, (3,3), strides=(2,2), padding='same', name='f_conv_3', kernel_regularizer = 'l2')(f)\n",
        "f = layers.BatchNormalization(name='f_norm_2')(f)\n",
        "f = layers.LeakyReLU(name='f_leaky_3')(f)\n",
        "\n",
        "\n",
        "f = layers.Conv2D(128, (3,3), strides=(2,2), padding='same', name='f_conv_4', kernel_regularizer = 'l2')(f)\n",
        "f = layers.BatchNormalization(name='f_norm_3')(f)\n",
        "f = layers.LeakyReLU(name='feature_output')(f)\n",
        "\n",
        "feature_extractor = keras.models.Model(input_layer, f)\n",
        "\n",
        "feature_extractor.summary()"
      ]
    },
    {
      "cell_type": "markdown",
      "metadata": {
        "id": "ioxFrCL6LSfW"
      },
      "source": [
        "#Loss function"
      ]
    },
    {
      "cell_type": "code",
      "execution_count": null,
      "metadata": {
        "id": "eGVMCG2SCvVc"
      },
      "outputs": [],
      "source": [
        "class AdvLoss(keras.layers.Layer):\n",
        "    def __init__(self, **kwargs):\n",
        "        super(AdvLoss, self).__init__(**kwargs)\n",
        "\n",
        "    def call(self, x, mask=None):\n",
        "        ori_feature = feature_extractor(x[0])\n",
        "        gan_feature = feature_extractor(x[1])\n",
        "        return K.mean(K.square(ori_feature - K.mean(gan_feature, axis=0)))\n",
        "\n",
        "    def get_output_shape_for(self, input_shape):\n",
        "        return (input_shape[0][0], 1)\n",
        "    \n",
        "class CntLoss(keras.layers.Layer):\n",
        "    def __init__(self, **kwargs):\n",
        "        super(CntLoss, self).__init__(**kwargs)\n",
        "\n",
        "    def call(self, x, mask=None):\n",
        "        ori = x[0]\n",
        "        gan = x[1]\n",
        "        return K.mean(K.abs(ori - gan))\n",
        "\n",
        "    def get_output_shape_for(self, input_shape):\n",
        "        return (input_shape[0][0], 1)\n",
        "    \n",
        "class EncLoss(keras.layers.Layer):\n",
        "    def __init__(self, **kwargs):\n",
        "        super(EncLoss, self).__init__(**kwargs)\n",
        "\n",
        "    def call(self, x, mask=None):\n",
        "        ori = x[0]\n",
        "        gan = x[1]\n",
        "        return K.mean(K.square(g_e(ori) - encoder(gan)))\n",
        "\n",
        "    def get_output_shape_for(self, input_shape):\n",
        "        return (input_shape[0][0], 1)\n",
        "    "
      ]
    },
    {
      "cell_type": "markdown",
      "metadata": {
        "id": "kWXWFHFyLbYE"
      },
      "source": [
        "#Gan Trainer"
      ]
    },
    {
      "cell_type": "code",
      "execution_count": null,
      "metadata": {
        "id": "r7hUraXJLZs7"
      },
      "outputs": [],
      "source": [
        "# model for training\n",
        "input_layer = layers.Input(name='input', shape=(Image_shape[0], Image_shape[1], channels))\n",
        "gan = g(input_layer) # g(x)\n",
        "\n",
        "adv_loss = AdvLoss(name='adv_loss')([input_layer, gan])\n",
        "cnt_loss = CntLoss(name='cnt_loss')([input_layer, gan])\n",
        "enc_loss = EncLoss(name='enc_loss')([input_layer, gan])\n",
        "\n",
        "gan_trainer = keras.models.Model(input_layer, [adv_loss, cnt_loss, enc_loss])\n",
        "\n",
        "# loss function\n",
        "def loss(yt, yp):\n",
        "    return yp\n",
        "\n",
        "losses = {\n",
        "    'adv_loss': loss,\n",
        "    'cnt_loss': loss,\n",
        "    'enc_loss': loss,\n",
        "}\n",
        "\n",
        "lossWeights = {'cnt_loss': 20.0, 'adv_loss': 1.0, 'enc_loss': 1.0}\n",
        "\n",
        "# compile\n",
        "gan_trainer.compile(optimizer = 'adam', loss=losses, loss_weights=lossWeights)"
      ]
    },
    {
      "cell_type": "code",
      "execution_count": null,
      "metadata": {
        "colab": {
          "base_uri": "https://localhost:8080/"
        },
        "id": "7t27U-f5H5lQ",
        "outputId": "e000370b-54b7-4d79-b772-2d45dc653126"
      },
      "outputs": [
        {
          "output_type": "stream",
          "name": "stdout",
          "text": [
            "Model: \"model_4\"\n",
            "__________________________________________________________________________________________________\n",
            " Layer (type)                   Output Shape         Param #     Connected to                     \n",
            "==================================================================================================\n",
            " input (InputLayer)             [(None, 256, 256, 3  0           []                               \n",
            "                                )]                                                                \n",
            "                                                                                                  \n",
            " model_1 (Functional)           (None, 256, 256, 3)  17391875    ['input[0][0]']                  \n",
            "                                                                                                  \n",
            " adv_loss (AdvLoss)             ()                   0           ['input[0][0]',                  \n",
            "                                                                  'model_1[0][0]']                \n",
            "                                                                                                  \n",
            " cnt_loss (CntLoss)             ()                   0           ['input[0][0]',                  \n",
            "                                                                  'model_1[0][0]']                \n",
            "                                                                                                  \n",
            " enc_loss (EncLoss)             ()                   0           ['input[0][0]',                  \n",
            "                                                                  'model_1[0][0]']                \n",
            "                                                                                                  \n",
            "==================================================================================================\n",
            "Total params: 17,391,875\n",
            "Trainable params: 17,391,235\n",
            "Non-trainable params: 640\n",
            "__________________________________________________________________________________________________\n"
          ]
        }
      ],
      "source": [
        "gan_trainer.summary()"
      ]
    },
    {
      "cell_type": "markdown",
      "metadata": {
        "id": "RmwDZb47LgIV"
      },
      "source": [
        "#Discriminator"
      ]
    },
    {
      "cell_type": "code",
      "execution_count": null,
      "metadata": {
        "colab": {
          "base_uri": "https://localhost:8080/"
        },
        "id": "n0XmU_fJC_eg",
        "outputId": "19ba3c1b-667e-4542-a477-79b3e0479ec7"
      },
      "outputs": [
        {
          "output_type": "stream",
          "name": "stdout",
          "text": [
            "Model: \"model_5\"\n",
            "_________________________________________________________________\n",
            " Layer (type)                Output Shape              Param #   \n",
            "=================================================================\n",
            " input (InputLayer)          [(None, 256, 256, 3)]     0         \n",
            "                                                                 \n",
            " model_3 (Functional)        (None, 32, 32, 128)       243648    \n",
            "                                                                 \n",
            " glb_avg (GlobalAveragePooli  (None, 128)              0         \n",
            " ng2D)                                                           \n",
            "                                                                 \n",
            " d_out (Dense)               (None, 1)                 129       \n",
            "                                                                 \n",
            "=================================================================\n",
            "Total params: 243,777\n",
            "Trainable params: 243,137\n",
            "Non-trainable params: 640\n",
            "_________________________________________________________________\n"
          ]
        }
      ],
      "source": [
        "input_layer = layers.Input(name='input', shape=(Image_shape[0], Image_shape[1], channels))\n",
        "\n",
        "f = feature_extractor(input_layer)\n",
        "\n",
        "d = layers.GlobalAveragePooling2D(name='glb_avg')(f)\n",
        "d = layers.Dense(1, activation='sigmoid', name='d_out')(d)\n",
        "    \n",
        "d = keras.models.Model(input_layer, d)\n",
        "d.summary()"
      ]
    },
    {
      "cell_type": "code",
      "execution_count": null,
      "metadata": {
        "id": "VgGwFMIOJ70D"
      },
      "outputs": [],
      "source": [
        "d.compile(optimizer='adam', loss='binary_crossentropy')"
      ]
    },
    {
      "cell_type": "markdown",
      "metadata": {
        "id": "17TE7lrFLlbW"
      },
      "source": [
        "#Load Data"
      ]
    },
    {
      "cell_type": "code",
      "execution_count": null,
      "metadata": {
        "id": "066C1ntedx06"
      },
      "outputs": [],
      "source": [
        "def read_train_data(path):\n",
        "  x_train = []\n",
        "  for filename in glob.glob(data_path+\"train/good/**.png\"):\n",
        "    if channels == 1:\n",
        "      x_train.append(cv2.resize(cv2.imread(filename, cv2.IMREAD_GRAYSCALE), Image_shape, interpolation=cv2.INTER_AREA))\n",
        "    else:\n",
        "      x_train.append(cv2.resize(cv2.imread(filename), Image_shape, interpolation=cv2.INTER_AREA))\n",
        "    if flip_add and random.random()>=0:\n",
        "      x_train.append(cv2.flip(x_train[-1], 1))\n",
        "  x_train = shuffle(x_train)\n",
        "  return x_train"
      ]
    },
    {
      "cell_type": "code",
      "execution_count": null,
      "metadata": {
        "id": "biZTJJjTdwAd"
      },
      "outputs": [],
      "source": [
        "def reshape_x(x):\n",
        "    if channels ==3:\n",
        "      new_x = np.empty((len(x), Image_shape[0], Image_shape[1], channels))\n",
        "    else:\n",
        "       new_x = np.empty((len(x), Image_shape[0], Image_shape[1]))\n",
        "    for i, e in enumerate(x):\n",
        "        new_x[i] = x[i]\n",
        "    return np.expand_dims(new_x, axis=-1) / 127 - 1"
      ]
    },
    {
      "cell_type": "code",
      "execution_count": null,
      "metadata": {
        "colab": {
          "base_uri": "https://localhost:8080/"
        },
        "id": "YDNZ9hYycMoh",
        "outputId": "d1420e0b-3828-418d-8109-ccf648d2bc86"
      },
      "outputs": [
        {
          "output_type": "display_data",
          "data": {
            "text/plain": [
              "<PIL.Image.Image image mode=RGB size=256x256 at 0x7F6E667712D0>"
            ],
            "image/png": "[encoded data removed]"
          },
          "metadata": {}
        }
      ],
      "source": [
        "#Train Data\n",
        "x_train = read_train_data(data_path)\n",
        "cv2_imshow(x_train[-1])\n",
        "x_train_pross = reshape_x(x_train)\n"
      ]
    },
    {
      "cell_type": "markdown",
      "metadata": {
        "id": "YAb3fvzwbggy"
      },
      "source": [
        "#Training"
      ]
    },
    {
      "cell_type": "code",
      "execution_count": null,
      "metadata": {
        "id": "ZEmEgsQ9bipS"
      },
      "outputs": [],
      "source": [
        "def get_data_generator(data, batch_size=32):\n",
        "    datalen = len(data)\n",
        "    cnt = 0\n",
        "    while True:\n",
        "        idxes = np.arange(datalen)\n",
        "        np.random.shuffle(idxes)\n",
        "        cnt += 1\n",
        "        for i in range(int(np.ceil(datalen/batch_size))):\n",
        "            train_x = np.take(data, idxes[i*batch_size: (i+1) * batch_size], axis=0)\n",
        "            if channels == 3:\n",
        "              train_x = train_x.reshape(len(train_x),Image_shape[0],Image_shape[1],channels)\n",
        "            y = np.ones(len(train_x))\n",
        "            yield train_x, [y, y, y]"
      ]
    },
    {
      "cell_type": "code",
      "execution_count": null,
      "metadata": {
        "id": "B8gevT-bbpAZ"
      },
      "outputs": [],
      "source": [
        "train_data_generator = get_data_generator(x_train_pross, batch_size)"
      ]
    },
    {
      "cell_type": "code",
      "execution_count": null,
      "metadata": {
        "colab": {
          "base_uri": "https://localhost:8080/"
        },
        "id": "S1rnrGCsb3b2",
        "outputId": "2c825c20-c70e-4ca8-c2e5-8c3b5deac8a3"
      },
      "outputs": [
        {
          "output_type": "stream",
          "name": "stdout",
          "text": [
            "niter: 1, g_loss: [1.4995535612106323, 0.000608476169873029, 0.038208648562431335, 0.006935865618288517], d_loss: 0.6327077746391296\n",
            "niter: 26, g_loss: [1.2036396265029907, 0.0014371309662237763, 0.02982434071600437, 0.006650606635957956], d_loss: 0.46422433853149414\n",
            "niter: 51, g_loss: [1.1850616931915283, 0.0003258367069065571, 0.032583143562078476, 0.007111120503395796], d_loss: 0.34813162684440613\n",
            "niter: 76, g_loss: [1.183069109916687, 0.0002350727008888498, 0.03512423858046532, 0.008675307966768742], d_loss: 0.289183109998703\n",
            "niter: 101, g_loss: [1.1781160831451416, 0.00017700840544421226, 0.036689698696136475, 0.010082068853080273], d_loss: 0.23870374262332916\n",
            "niter: 126, g_loss: [0.9982969760894775, 0.00021890358766540885, 0.029599575325846672, 0.007141510955989361], d_loss: 0.17332041263580322\n",
            "niter: 151, g_loss: [1.1735615730285645, 6.358690734487027e-05, 0.03936314955353737, 0.008327828720211983], d_loss: 0.1370583474636078\n",
            "niter: 176, g_loss: [0.8765403628349304, 8.651198186271358e-06, 0.025687115266919136, 0.007382160983979702], d_loss: 0.11050738394260406\n",
            "niter: 201, g_loss: [0.9223936796188354, 4.544870989775518e-06, 0.02932475320994854, 0.00962391309440136], d_loss: 0.09025377035140991\n",
            "niter: 226, g_loss: [1.2624324560165405, 0.2991099953651428, 0.03263203427195549, 0.00702456571161747], d_loss: 0.17723850905895233\n"
          ]
        }
      ],
      "source": [
        "for i in range(niter):\n",
        "    \n",
        "    ### get batch x, y ###\n",
        "    x, y = train_data_generator.__next__()\n",
        "        \n",
        "    ### train disciminator ###\n",
        "    d.trainable = True\n",
        "        \n",
        "    fake_x = g.predict(x)\n",
        "    d_x = np.concatenate([x, fake_x], axis=0)\n",
        "    d_y = np.concatenate([np.zeros(len(x)), np.ones(len(fake_x))], axis=0)\n",
        "        \n",
        "    d_loss = d.train_on_batch(d_x, d_y)\n",
        "\n",
        "    ### train generator ###\n",
        "    \n",
        "    d.trainable = False        \n",
        "    g_loss = gan_trainer.train_on_batch(x, y)\n",
        "    \n",
        "    if i % 25 == 0:\n",
        "        print(f'niter: {i+1}, g_loss: {g_loss}, d_loss: {d_loss}')"
      ]
    },
    {
      "cell_type": "markdown",
      "metadata": {
        "id": "WU5CqDLWd_9p"
      },
      "source": [
        "#Test"
      ]
    },
    {
      "cell_type": "code",
      "execution_count": null,
      "metadata": {
        "id": "7u7RvS6pnk-r"
      },
      "outputs": [],
      "source": [
        "#test\n",
        "def Predict(Generator, Generator_Encode,Encode, X, Y, threshold = 0.1):\n",
        "  encoded = Generator_Encode.predict(X)\n",
        "  encoded_gan = Encode.predict(Generator.predict(X))\n",
        "  score = np.sum(np.absolute(encoded - encoded_gan), axis=-1)\n",
        "  score = (score - np.min(score)) / (np.max(score) - np.min(score))\n",
        "  for i in range(len(score)):\n",
        "    if score[i] > threshold:\n",
        "      score[i] = 1\n",
        "    else:\n",
        "      score[i] = 0\n",
        "  score = score.astype(int)\n",
        "  tn, fp, fn, tp = confusion_matrix(Y, score).ravel()\n",
        "  pre = round(tp/(tp + fp)*100,1)\n",
        "  recall = round(tp/(tp + fn)*100,1)\n",
        "  acc = round((tp+tn) / (tp+tn+fp+fn)*100,1)\n",
        "  f1 = round(2*pre*recall/(pre + recall),1)\n",
        "\n",
        "  print('Accuracy     : {}%'.format(acc))\n",
        "  print('Precision    : {}%'.format(pre))\n",
        "  print('Recall      : {}%'.format(recall))\n",
        "  print('F1-score     : {}%'.format(f1))"
      ]
    },
    {
      "cell_type": "code",
      "execution_count": null,
      "metadata": {
        "id": "kJwE-DjNnf6W"
      },
      "outputs": [],
      "source": [
        "def reshape_x(x):\n",
        "    if channels ==3:\n",
        "      new_x = np.empty((len(x), Image_shape[0], Image_shape[1], channels))\n",
        "    else:\n",
        "       new_x = np.empty((len(x), Image_shape[0], Image_shape[1]))\n",
        "    for i, e in enumerate(x):\n",
        "        new_x[i] = x[i]\n",
        "    new_x = np.expand_dims(new_x, axis=-1) / 127 - 1\n",
        "    if len(new_x.shape) == 5:\n",
        "      new_x = new_x.reshape(len(new_x),Image_shape[0],Image_shape[1],channels)\n",
        "    return new_x"
      ]
    },
    {
      "cell_type": "code",
      "execution_count": null,
      "metadata": {
        "id": "7v37P4rjeBr5"
      },
      "outputs": [],
      "source": [
        "def read_test_data(path):\n",
        "  x_test = []\n",
        "  y_test = []\n",
        "  for i in os.listdir(path+\"test/\"):\n",
        "    if os.path.isdir(path+\"test/\"+i):\n",
        "      for filename in glob.glob(path+\"test/\"+i+\"/**.png\"):\n",
        "        if channels == 1:\n",
        "          x_test.append(cv2.resize(cv2.imread(filename, cv2.IMREAD_GRAYSCALE), Image_shape, interpolation=cv2.INTER_AREA))\n",
        "        else:\n",
        "          x_test.append(cv2.resize(cv2.imread(filename), Image_shape, interpolation=cv2.INTER_AREA))\n",
        "        if i == \"good\":\n",
        "          y_test.append(0)\n",
        "        else:\n",
        "          y_test.append(1)\n",
        "  return x_test,y_test"
      ]
    },
    {
      "cell_type": "code",
      "execution_count": null,
      "metadata": {
        "id": "EsYHL-CAmA2p"
      },
      "outputs": [],
      "source": [
        "x_test , y_test = read_test_data(data_path)\n",
        "x_test_process = reshape_x(x_test)"
      ]
    },
    {
      "cell_type": "code",
      "source": [
        "len(y_test)"
      ],
      "metadata": {
        "colab": {
          "base_uri": "https://localhost:8080/"
        },
        "id": "UjO3mzGPw85F",
        "outputId": "188fc3df-902b-4680-de81-f51d96592d80"
      },
      "execution_count": null,
      "outputs": [
        {
          "output_type": "execute_result",
          "data": {
            "text/plain": [
              "167"
            ]
          },
          "metadata": {},
          "execution_count": 26
        }
      ]
    },
    {
      "cell_type": "code",
      "execution_count": null,
      "metadata": {
        "id": "09fLB_KyprSe"
      },
      "outputs": [],
      "source": [
        "Predict(g,g_e,g_e,x_test_process,y_test,Threshold)"
      ]
    },
    {
      "cell_type": "markdown",
      "metadata": {
        "id": "7U_8eUI8nL3j"
      },
      "source": [
        "#Save Model\n"
      ]
    },
    {
      "cell_type": "code",
      "source": [
        "keras.__version__"
      ],
      "metadata": {
        "colab": {
          "base_uri": "https://localhost:8080/",
          "height": 35
        },
        "id": "nmmd4ugLQCKK",
        "outputId": "3566b37b-9477-4872-cdff-255aa1e64b6f"
      },
      "execution_count": null,
      "outputs": [
        {
          "output_type": "execute_result",
          "data": {
            "text/plain": [
              "'2.8.0'"
            ],
            "application/vnd.google.colaboratory.intrinsic+json": {
              "type": "string"
            }
          },
          "metadata": {},
          "execution_count": 72
        }
      ]
    },
    {
      "cell_type": "code",
      "source": [
        "import os \n",
        "#os.mkdir('/content/gdrive/MyDrive/MVTEC/Model/GANormaly/pill/')\n",
        "g.save_weights('/content/gdrive/MyDrive/MVTEC/Model/GANormaly/pill/g.h5')\n",
        "g_e.save_weights('/content/gdrive/MyDrive/MVTEC/Model/GANormaly/pill/g_e.h5')"
      ],
      "metadata": {
        "id": "geRJL3ZAT29F"
      },
      "execution_count": null,
      "outputs": []
    },
    {
      "cell_type": "code",
      "execution_count": null,
      "metadata": {
        "id": "5WPH17XlnQCj"
      },
      "outputs": [],
      "source": [
        "#Save Model\n",
        "\"\"\"\n",
        "g.save_weights('/content/gdrive/MyDrive/MVTEC/Model/GANormaly/256_005/g.h5')\n",
        "encoder.save_weights('/content/gdrive/MyDrive/MVTEC/Model/GANormaly/256_005/encoder.h5')\n",
        "g_e.save_weights('/content/gdrive/MyDrive/MVTEC/Model/GANormaly/256_005/g_e.h5')\n",
        "d.save_weights('/content/gdrive/MyDrive/MVTEC/Model/GANormaly/256_005/d.h5')\n",
        "\n",
        "import os \n",
        "os.mkdir('/content/gdrive/MyDrive/MVTEC/Model/GANormaly/256_flip/')\n",
        "g.save_weights('/content/gdrive/MyDrive/MVTEC/Model/GANormaly/256_flip/g.h5')\n",
        "encoder.save_weights('/content/gdrive/MyDrive/MVTEC/Model/GANormaly/256_flip/encoder.h5')\n",
        "g_e.save_weights('/content/gdrive/MyDrive/MVTEC/Model/GANormaly/256_flip/g_e.h5')\n",
        "d.save_weights('/content/gdrive/MyDrive/MVTEC/Model/GANormaly/256_flip/d.h5')\"\"\""
      ]
    },
    {
      "cell_type": "code",
      "source": [
        "#g_e.save_weights('/content/gdrive/MyDrive/MVTEC/Model/GANormaly/256_flip/g_e.h5')"
      ],
      "metadata": {
        "id": "6l63yTczOlwZ"
      },
      "execution_count": null,
      "outputs": []
    }
  ],
  "metadata": {
    "accelerator": "GPU",
    "colab": {
      "collapsed_sections": [],
      "provenance": [],
      "machine_shape": "hm"
    },
    "kernelspec": {
      "display_name": "Python 3",
      "name": "python3"
    },
    "language_info": {
      "name": "python"
    }
  },
  "nbformat": 4,
  "nbformat_minor": 0
}